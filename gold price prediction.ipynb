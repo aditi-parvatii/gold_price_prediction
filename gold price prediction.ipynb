{
 "cells": [
  {
   "cell_type": "code",
   "execution_count": 1,
   "id": "db057a47",
   "metadata": {},
   "outputs": [],
   "source": [
    "#importing all the libraries necessary to perform the required analysis and prediction\n",
    "import numpy as np\n",
    "import pandas as pd\n",
    "import matplotlib.pyplot as plt\n",
    "import seaborn as sns\n",
    "from sklearn.model_selection import train_test_split\n",
    "from sklearn.ensemble import RandomForestRegressor\n",
    "from sklearn import metrics\n"
   ]
  },
  {
   "cell_type": "code",
   "execution_count": 2,
   "id": "c1df2fd6",
   "metadata": {},
   "outputs": [],
   "source": [
    "#Reading the excel file\n",
    "gold_data=pd.read_excel(r'D:\\My projects\\gold price/gld_price_data.xlsx')"
   ]
  },
  {
   "cell_type": "code",
   "execution_count": 3,
   "id": "ddb58d11",
   "metadata": {},
   "outputs": [
    {
     "data": {
      "text/html": [
       "<div>\n",
       "<style scoped>\n",
       "    .dataframe tbody tr th:only-of-type {\n",
       "        vertical-align: middle;\n",
       "    }\n",
       "\n",
       "    .dataframe tbody tr th {\n",
       "        vertical-align: top;\n",
       "    }\n",
       "\n",
       "    .dataframe thead th {\n",
       "        text-align: right;\n",
       "    }\n",
       "</style>\n",
       "<table border=\"1\" class=\"dataframe\">\n",
       "  <thead>\n",
       "    <tr style=\"text-align: right;\">\n",
       "      <th></th>\n",
       "      <th>Date</th>\n",
       "      <th>SPX</th>\n",
       "      <th>GLD</th>\n",
       "      <th>USO</th>\n",
       "      <th>SLV</th>\n",
       "      <th>EUR/USD</th>\n",
       "    </tr>\n",
       "  </thead>\n",
       "  <tbody>\n",
       "    <tr>\n",
       "      <th>0</th>\n",
       "      <td>2008-02-01 00:00:00</td>\n",
       "      <td>1447.160034</td>\n",
       "      <td>84.860001</td>\n",
       "      <td>78.470001</td>\n",
       "      <td>15.180</td>\n",
       "      <td>1.471692</td>\n",
       "    </tr>\n",
       "    <tr>\n",
       "      <th>1</th>\n",
       "      <td>2008-03-01 00:00:00</td>\n",
       "      <td>1447.160034</td>\n",
       "      <td>85.570000</td>\n",
       "      <td>78.370003</td>\n",
       "      <td>15.285</td>\n",
       "      <td>1.474491</td>\n",
       "    </tr>\n",
       "    <tr>\n",
       "      <th>2</th>\n",
       "      <td>2008-04-01 00:00:00</td>\n",
       "      <td>1411.630005</td>\n",
       "      <td>85.129997</td>\n",
       "      <td>77.309998</td>\n",
       "      <td>15.167</td>\n",
       "      <td>1.475492</td>\n",
       "    </tr>\n",
       "    <tr>\n",
       "      <th>3</th>\n",
       "      <td>2008-07-01 00:00:00</td>\n",
       "      <td>1416.180054</td>\n",
       "      <td>84.769997</td>\n",
       "      <td>75.500000</td>\n",
       "      <td>15.053</td>\n",
       "      <td>1.468299</td>\n",
       "    </tr>\n",
       "    <tr>\n",
       "      <th>4</th>\n",
       "      <td>2008-08-01 00:00:00</td>\n",
       "      <td>1390.189941</td>\n",
       "      <td>86.779999</td>\n",
       "      <td>76.059998</td>\n",
       "      <td>15.590</td>\n",
       "      <td>1.557099</td>\n",
       "    </tr>\n",
       "  </tbody>\n",
       "</table>\n",
       "</div>"
      ],
      "text/plain": [
       "                  Date          SPX        GLD        USO     SLV   EUR/USD\n",
       "0  2008-02-01 00:00:00  1447.160034  84.860001  78.470001  15.180  1.471692\n",
       "1  2008-03-01 00:00:00  1447.160034  85.570000  78.370003  15.285  1.474491\n",
       "2  2008-04-01 00:00:00  1411.630005  85.129997  77.309998  15.167  1.475492\n",
       "3  2008-07-01 00:00:00  1416.180054  84.769997  75.500000  15.053  1.468299\n",
       "4  2008-08-01 00:00:00  1390.189941  86.779999  76.059998  15.590  1.557099"
      ]
     },
     "execution_count": 3,
     "metadata": {},
     "output_type": "execute_result"
    }
   ],
   "source": [
    "gold_data.head()"
   ]
  },
  {
   "cell_type": "code",
   "execution_count": 5,
   "id": "b028185c",
   "metadata": {},
   "outputs": [
    {
     "data": {
      "text/html": [
       "<div>\n",
       "<style scoped>\n",
       "    .dataframe tbody tr th:only-of-type {\n",
       "        vertical-align: middle;\n",
       "    }\n",
       "\n",
       "    .dataframe tbody tr th {\n",
       "        vertical-align: top;\n",
       "    }\n",
       "\n",
       "    .dataframe thead th {\n",
       "        text-align: right;\n",
       "    }\n",
       "</style>\n",
       "<table border=\"1\" class=\"dataframe\">\n",
       "  <thead>\n",
       "    <tr style=\"text-align: right;\">\n",
       "      <th></th>\n",
       "      <th>Date</th>\n",
       "      <th>SPX</th>\n",
       "      <th>GLD</th>\n",
       "      <th>USO</th>\n",
       "      <th>SLV</th>\n",
       "      <th>EUR/USD</th>\n",
       "    </tr>\n",
       "  </thead>\n",
       "  <tbody>\n",
       "    <tr>\n",
       "      <th>2285</th>\n",
       "      <td>2018-08-05 00:00:00</td>\n",
       "      <td>2671.919922</td>\n",
       "      <td>124.589996</td>\n",
       "      <td>14.0600</td>\n",
       "      <td>15.5100</td>\n",
       "      <td>1.186789</td>\n",
       "    </tr>\n",
       "    <tr>\n",
       "      <th>2286</th>\n",
       "      <td>2018-09-05 00:00:00</td>\n",
       "      <td>2697.790039</td>\n",
       "      <td>124.330002</td>\n",
       "      <td>14.3700</td>\n",
       "      <td>15.5300</td>\n",
       "      <td>1.184722</td>\n",
       "    </tr>\n",
       "    <tr>\n",
       "      <th>2287</th>\n",
       "      <td>2018-10-05 00:00:00</td>\n",
       "      <td>2723.070068</td>\n",
       "      <td>125.180000</td>\n",
       "      <td>14.4100</td>\n",
       "      <td>15.7400</td>\n",
       "      <td>1.191753</td>\n",
       "    </tr>\n",
       "    <tr>\n",
       "      <th>2288</th>\n",
       "      <td>5/14/2018</td>\n",
       "      <td>2730.129883</td>\n",
       "      <td>124.489998</td>\n",
       "      <td>14.3800</td>\n",
       "      <td>15.5600</td>\n",
       "      <td>1.193118</td>\n",
       "    </tr>\n",
       "    <tr>\n",
       "      <th>2289</th>\n",
       "      <td>5/16/2018</td>\n",
       "      <td>2725.780029</td>\n",
       "      <td>122.543800</td>\n",
       "      <td>14.4058</td>\n",
       "      <td>15.4542</td>\n",
       "      <td>1.182033</td>\n",
       "    </tr>\n",
       "  </tbody>\n",
       "</table>\n",
       "</div>"
      ],
      "text/plain": [
       "                     Date          SPX         GLD      USO      SLV   EUR/USD\n",
       "2285  2018-08-05 00:00:00  2671.919922  124.589996  14.0600  15.5100  1.186789\n",
       "2286  2018-09-05 00:00:00  2697.790039  124.330002  14.3700  15.5300  1.184722\n",
       "2287  2018-10-05 00:00:00  2723.070068  125.180000  14.4100  15.7400  1.191753\n",
       "2288            5/14/2018  2730.129883  124.489998  14.3800  15.5600  1.193118\n",
       "2289            5/16/2018  2725.780029  122.543800  14.4058  15.4542  1.182033"
      ]
     },
     "execution_count": 5,
     "metadata": {},
     "output_type": "execute_result"
    }
   ],
   "source": [
    "#We are predicting the price of Gold by analysing the value of silved USD and SPX \n",
    "gold_data.tail()"
   ]
  },
  {
   "cell_type": "code",
   "execution_count": 6,
   "id": "6d1a5974",
   "metadata": {},
   "outputs": [
    {
     "data": {
      "text/plain": [
       "Date       0\n",
       "SPX        0\n",
       "GLD        0\n",
       "USO        0\n",
       "SLV        0\n",
       "EUR/USD    0\n",
       "dtype: int64"
      ]
     },
     "execution_count": 6,
     "metadata": {},
     "output_type": "execute_result"
    }
   ],
   "source": [
    "#To find the null or missing values in the particular column\n",
    "gold_data.isnull().sum()"
   ]
  },
  {
   "cell_type": "code",
   "execution_count": 7,
   "id": "99838270",
   "metadata": {},
   "outputs": [
    {
     "data": {
      "text/plain": [
       "(2290, 6)"
      ]
     },
     "execution_count": 7,
     "metadata": {},
     "output_type": "execute_result"
    }
   ],
   "source": [
    "#to find out the number of rows and columns in the dataset\n",
    "gold_data.shape"
   ]
  },
  {
   "cell_type": "code",
   "execution_count": 8,
   "id": "ba814d07",
   "metadata": {},
   "outputs": [
    {
     "name": "stdout",
     "output_type": "stream",
     "text": [
      "<class 'pandas.core.frame.DataFrame'>\n",
      "RangeIndex: 2290 entries, 0 to 2289\n",
      "Data columns (total 6 columns):\n",
      " #   Column   Non-Null Count  Dtype  \n",
      "---  ------   --------------  -----  \n",
      " 0   Date     2290 non-null   object \n",
      " 1   SPX      2290 non-null   float64\n",
      " 2   GLD      2290 non-null   float64\n",
      " 3   USO      2290 non-null   float64\n",
      " 4   SLV      2290 non-null   float64\n",
      " 5   EUR/USD  2290 non-null   float64\n",
      "dtypes: float64(5), object(1)\n",
      "memory usage: 107.5+ KB\n"
     ]
    }
   ],
   "source": [
    "#Gives us the general information of the dataset for example: the non null values, Datatype of the particular column and count\n",
    "gold_data.info()"
   ]
  },
  {
   "cell_type": "code",
   "execution_count": 31,
   "id": "403f6bfb",
   "metadata": {},
   "outputs": [],
   "source": [
    "#Dropping the Date column from the dataset\n",
    "gold_data.drop(columns=['Date'],inplace=True)"
   ]
  },
  {
   "cell_type": "code",
   "execution_count": 32,
   "id": "374b372e",
   "metadata": {},
   "outputs": [
    {
     "data": {
      "text/html": [
       "<div>\n",
       "<style scoped>\n",
       "    .dataframe tbody tr th:only-of-type {\n",
       "        vertical-align: middle;\n",
       "    }\n",
       "\n",
       "    .dataframe tbody tr th {\n",
       "        vertical-align: top;\n",
       "    }\n",
       "\n",
       "    .dataframe thead th {\n",
       "        text-align: right;\n",
       "    }\n",
       "</style>\n",
       "<table border=\"1\" class=\"dataframe\">\n",
       "  <thead>\n",
       "    <tr style=\"text-align: right;\">\n",
       "      <th></th>\n",
       "      <th>SPX</th>\n",
       "      <th>GLD</th>\n",
       "      <th>USO</th>\n",
       "      <th>SLV</th>\n",
       "      <th>EUR/USD</th>\n",
       "    </tr>\n",
       "  </thead>\n",
       "  <tbody>\n",
       "    <tr>\n",
       "      <th>count</th>\n",
       "      <td>2290.000000</td>\n",
       "      <td>2290.000000</td>\n",
       "      <td>2290.000000</td>\n",
       "      <td>2290.000000</td>\n",
       "      <td>2290.000000</td>\n",
       "    </tr>\n",
       "    <tr>\n",
       "      <th>mean</th>\n",
       "      <td>1654.315776</td>\n",
       "      <td>122.732875</td>\n",
       "      <td>31.842221</td>\n",
       "      <td>20.084997</td>\n",
       "      <td>1.283653</td>\n",
       "    </tr>\n",
       "    <tr>\n",
       "      <th>std</th>\n",
       "      <td>519.111540</td>\n",
       "      <td>23.283346</td>\n",
       "      <td>19.523517</td>\n",
       "      <td>7.092566</td>\n",
       "      <td>0.131547</td>\n",
       "    </tr>\n",
       "    <tr>\n",
       "      <th>min</th>\n",
       "      <td>676.530029</td>\n",
       "      <td>70.000000</td>\n",
       "      <td>7.960000</td>\n",
       "      <td>8.850000</td>\n",
       "      <td>1.039047</td>\n",
       "    </tr>\n",
       "    <tr>\n",
       "      <th>25%</th>\n",
       "      <td>1239.874969</td>\n",
       "      <td>109.725000</td>\n",
       "      <td>14.380000</td>\n",
       "      <td>15.570000</td>\n",
       "      <td>1.171313</td>\n",
       "    </tr>\n",
       "    <tr>\n",
       "      <th>50%</th>\n",
       "      <td>1551.434998</td>\n",
       "      <td>120.580002</td>\n",
       "      <td>33.869999</td>\n",
       "      <td>17.268500</td>\n",
       "      <td>1.303297</td>\n",
       "    </tr>\n",
       "    <tr>\n",
       "      <th>75%</th>\n",
       "      <td>2073.010070</td>\n",
       "      <td>132.840004</td>\n",
       "      <td>37.827501</td>\n",
       "      <td>22.882500</td>\n",
       "      <td>1.369971</td>\n",
       "    </tr>\n",
       "    <tr>\n",
       "      <th>max</th>\n",
       "      <td>2872.870117</td>\n",
       "      <td>184.589996</td>\n",
       "      <td>117.480003</td>\n",
       "      <td>47.259998</td>\n",
       "      <td>1.598798</td>\n",
       "    </tr>\n",
       "  </tbody>\n",
       "</table>\n",
       "</div>"
      ],
      "text/plain": [
       "               SPX          GLD          USO          SLV      EUR/USD\n",
       "count  2290.000000  2290.000000  2290.000000  2290.000000  2290.000000\n",
       "mean   1654.315776   122.732875    31.842221    20.084997     1.283653\n",
       "std     519.111540    23.283346    19.523517     7.092566     0.131547\n",
       "min     676.530029    70.000000     7.960000     8.850000     1.039047\n",
       "25%    1239.874969   109.725000    14.380000    15.570000     1.171313\n",
       "50%    1551.434998   120.580002    33.869999    17.268500     1.303297\n",
       "75%    2073.010070   132.840004    37.827501    22.882500     1.369971\n",
       "max    2872.870117   184.589996   117.480003    47.259998     1.598798"
      ]
     },
     "execution_count": 32,
     "metadata": {},
     "output_type": "execute_result"
    }
   ],
   "source": [
    "#This is giving us the overall description of the data so as to analyse it well\n",
    "gold_data.describe()"
   ]
  },
  {
   "cell_type": "code",
   "execution_count": 35,
   "id": "eb066b73",
   "metadata": {},
   "outputs": [],
   "source": [
    "#finding the correlation between the different features in the data\n",
    "correlation_data=gold_data.corr(method='kendall')"
   ]
  },
  {
   "cell_type": "code",
   "execution_count": 38,
   "id": "672cf1d8",
   "metadata": {},
   "outputs": [
    {
     "data": {
      "text/plain": [
       "<AxesSubplot:>"
      ]
     },
     "execution_count": 38,
     "metadata": {},
     "output_type": "execute_result"
    },
    {
     "data": {
      "image/png": "[encoded data removed]",
      "text/plain": [
       "<Figure size 576x576 with 2 Axes>"
      ]
     },
     "metadata": {
      "needs_background": "light"
     },
     "output_type": "display_data"
    }
   ],
   "source": [
    "plt.figure(figsize=(8,8))\n",
    "sns.heatmap(correlation_data,cbar=True,square=True,annot=True)"
   ]
  },
  {
   "cell_type": "code",
   "execution_count": 39,
   "id": "a6dd01da",
   "metadata": {},
   "outputs": [
    {
     "data": {
      "text/plain": [
       "SPX        0.068464\n",
       "GLD        1.000000\n",
       "USO        0.015412\n",
       "SLV        0.674810\n",
       "EUR/USD    0.042871\n",
       "Name: GLD, dtype: float64"
      ]
     },
     "execution_count": 39,
     "metadata": {},
     "output_type": "execute_result"
    }
   ],
   "source": [
    "#correlation values of gold\n",
    "correlation_data['GLD']"
   ]
  },
  {
   "cell_type": "code",
   "execution_count": 41,
   "id": "2350e24a",
   "metadata": {},
   "outputs": [
    {
     "name": "stderr",
     "output_type": "stream",
     "text": [
      "C:\\Users\\aditi\\anaconda3\\lib\\site-packages\\seaborn\\distributions.py:2619: FutureWarning: `distplot` is a deprecated function and will be removed in a future version. Please adapt your code to use either `displot` (a figure-level function with similar flexibility) or `histplot` (an axes-level function for histograms).\n",
      "  warnings.warn(msg, FutureWarning)\n"
     ]
    },
    {
     "data": {
      "text/plain": [
       "<AxesSubplot:xlabel='GLD', ylabel='Density'>"
      ]
     },
     "execution_count": 41,
     "metadata": {},
     "output_type": "execute_result"
    },
    {
     "data": {
      "image/png": "[encoded data removed]",
      "text/plain": [
       "<Figure size 432x288 with 1 Axes>"
      ]
     },
     "metadata": {
      "needs_background": "light"
     },
     "output_type": "display_data"
    }
   ],
   "source": [
    "#checking the distribution of the gold price\n",
    "sns.distplot(gold_data['GLD'],color='green')"
   ]
  },
  {
   "cell_type": "code",
   "execution_count": 42,
   "id": "d831fa98",
   "metadata": {},
   "outputs": [
    {
     "data": {
      "text/plain": [
       "<seaborn.axisgrid.FacetGrid at 0x19784091790>"
      ]
     },
     "execution_count": 42,
     "metadata": {},
     "output_type": "execute_result"
    },
    {
     "data": {
      "image/png": "[encoded data removed]",
      "text/plain": [
       "<Figure size 360x360 with 1 Axes>"
      ]
     },
     "metadata": {
      "needs_background": "light"
     },
     "output_type": "display_data"
    }
   ],
   "source": [
    "#as we can see from the figure most of the values lie in the range of 120\n",
    "#this is a distribution plot\n",
    "sns.displot(gold_data['GLD'],color='green')"
   ]
  },
  {
   "cell_type": "code",
   "execution_count": 43,
   "id": "d1ab403f",
   "metadata": {},
   "outputs": [],
   "source": [
    "#Splitting the data. Seperating the independent and the dependent features\n",
    "X=gold_data.drop(['GLD'],axis=1)\n",
    "Y=gold_data['GLD']"
   ]
  },
  {
   "cell_type": "code",
   "execution_count": 44,
   "id": "79f5f421",
   "metadata": {},
   "outputs": [
    {
     "name": "stdout",
     "output_type": "stream",
     "text": [
      "              SPX        USO      SLV   EUR/USD\n",
      "0     1447.160034  78.470001  15.1800  1.471692\n",
      "1     1447.160034  78.370003  15.2850  1.474491\n",
      "2     1411.630005  77.309998  15.1670  1.475492\n",
      "3     1416.180054  75.500000  15.0530  1.468299\n",
      "4     1390.189941  76.059998  15.5900  1.557099\n",
      "...           ...        ...      ...       ...\n",
      "2285  2671.919922  14.060000  15.5100  1.186789\n",
      "2286  2697.790039  14.370000  15.5300  1.184722\n",
      "2287  2723.070068  14.410000  15.7400  1.191753\n",
      "2288  2730.129883  14.380000  15.5600  1.193118\n",
      "2289  2725.780029  14.405800  15.4542  1.182033\n",
      "\n",
      "[2290 rows x 4 columns]\n"
     ]
    }
   ],
   "source": [
    "print(X)"
   ]
  },
  {
   "cell_type": "code",
   "execution_count": 45,
   "id": "b3cb8ebb",
   "metadata": {},
   "outputs": [
    {
     "name": "stdout",
     "output_type": "stream",
     "text": [
      "0        84.860001\n",
      "1        85.570000\n",
      "2        85.129997\n",
      "3        84.769997\n",
      "4        86.779999\n",
      "           ...    \n",
      "2285    124.589996\n",
      "2286    124.330002\n",
      "2287    125.180000\n",
      "2288    124.489998\n",
      "2289    122.543800\n",
      "Name: GLD, Length: 2290, dtype: float64\n"
     ]
    }
   ],
   "source": [
    "print(Y)"
   ]
  },
  {
   "cell_type": "code",
   "execution_count": 46,
   "id": "b8dbbfe3",
   "metadata": {},
   "outputs": [],
   "source": [
    "#splitting into training data and test data\n",
    "X_train, X_test, Y_train, Y_test=train_test_split(X,Y,test_size=0.2,random_state=2)"
   ]
  },
  {
   "cell_type": "code",
   "execution_count": 47,
   "id": "7b727de0",
   "metadata": {},
   "outputs": [],
   "source": [
    "#model training and for this we are using the random forest regressor\n",
    "regressor=RandomForestRegressor(n_estimators=100)"
   ]
  },
  {
   "cell_type": "code",
   "execution_count": 50,
   "id": "59ff1dd3",
   "metadata": {},
   "outputs": [
    {
     "data": {
      "text/plain": [
       "RandomForestRegressor()"
      ]
     },
     "execution_count": 50,
     "metadata": {},
     "output_type": "execute_result"
    }
   ],
   "source": [
    "#training the model\n",
    "regressor.fit(X_train,Y_train)"
   ]
  },
  {
   "cell_type": "code",
   "execution_count": 51,
   "id": "84eca228",
   "metadata": {},
   "outputs": [
    {
     "data": {
      "text/plain": [
       "array([168.48209934,  81.81729999, 116.03709991, 127.64520029,\n",
       "       120.80190101, 154.65279801, 150.17429796, 126.07960023,\n",
       "       117.47169875, 125.88040042, 116.81380064, 171.13070068,\n",
       "       141.20669853, 168.00179939, 115.16590004, 117.8007005 ,\n",
       "       139.45780304, 170.11410029, 159.65740245, 159.9888001 ,\n",
       "       155.10719981, 125.37700022, 175.79340005, 156.94440358,\n",
       "       125.24620048,  93.73969951,  77.69989996, 120.34810012,\n",
       "       119.08729949, 167.50349962,  88.18080062, 125.49350042,\n",
       "        90.98910026, 117.81709991, 121.06449925, 136.20580157,\n",
       "       115.40140119, 115.16500065, 148.5837007 , 107.13780099,\n",
       "       104.73690235,  87.13539792, 126.61340059, 118.11290022,\n",
       "       153.79269948, 119.65160021, 108.27280018, 107.96679825,\n",
       "        93.36150095, 127.07889779,  75.08090038, 113.54969878,\n",
       "       121.11730025, 111.27239884, 118.84489903, 121.17899948,\n",
       "       158.69080127, 167.55730149, 147.18519664,  86.02549853,\n",
       "        94.30180039,  86.77999881,  90.60300045, 119.06180072,\n",
       "       126.4651006 , 127.70370048, 170.58929972, 122.29869925,\n",
       "       117.50839875,  98.6401007 , 168.60620193, 142.77589774,\n",
       "       131.82790257, 121.18190247, 120.85949932, 119.61250052,\n",
       "       114.55610185, 118.22230074, 106.90450113, 127.97200057,\n",
       "       114.00049977, 107.49400003, 116.92030069, 119.60029871,\n",
       "        89.28910014,  88.17029859, 146.27770233, 127.29589968,\n",
       "       113.71210006, 110.24589834, 108.37339885,  77.3266992 ,\n",
       "       169.91140226, 113.99039923, 121.61589895, 128.18400163,\n",
       "       154.97039798,  91.78029943, 135.73940124, 158.66760338,\n",
       "       126.34800063, 125.39810055, 130.52280159, 114.9534013 ,\n",
       "       119.83719999,  92.06829981, 110.42399888, 167.73229932,\n",
       "       156.38489958, 114.09059948, 106.85690125,  79.71319966,\n",
       "       113.13490062, 125.7546008 , 107.62709915, 119.36050115,\n",
       "       155.41350283, 160.11139895, 120.11870021, 133.9623031 ,\n",
       "       101.68189979, 117.41389805, 119.20660031, 113.0175007 ,\n",
       "       102.79149897, 160.26919753,  99.07260009, 148.4268994 ,\n",
       "       125.42620111, 170.04889854, 125.64319901, 127.40479706,\n",
       "       127.40180189, 113.61789975, 112.72370064, 123.54559896,\n",
       "       102.06349916,  89.23629998, 124.62839958, 101.79649958,\n",
       "       107.32119886, 113.73700069, 117.6776008 ,  99.1825995 ,\n",
       "       121.97180016, 163.22339854,  87.27529826, 106.6664997 ,\n",
       "       117.02300091, 127.75160112, 123.88770059,  80.68949914,\n",
       "       120.35050054, 158.70019814,  88.02600006, 110.35329933,\n",
       "       118.79019896, 172.29579935, 102.99959919, 105.83390079,\n",
       "       122.5661006 , 159.47629733,  87.62089866,  93.5496007 ,\n",
       "       112.83980015, 177.01680043, 114.38639956, 119.28210014,\n",
       "        94.78700105, 125.8425003 , 165.96470029, 114.79620048,\n",
       "       116.63740139,  88.18549863, 148.88850082, 120.28119959,\n",
       "        89.62470003, 112.02479968, 117.71620084, 118.75120143,\n",
       "        88.22449931,  94.28040051, 117.27050003, 118.43850178,\n",
       "       120.26090041, 126.70919821, 121.85829986, 148.17270018,\n",
       "       165.81210041, 118.67929953, 120.41150172, 151.0483003 ,\n",
       "       118.62049893, 172.63029852, 105.37139929, 105.03600137,\n",
       "       149.19200104, 113.87630068, 124.73830104, 147.48099963,\n",
       "       119.611701  , 115.34600075, 112.64029959, 113.53420196,\n",
       "       141.6557008 , 117.93819758, 102.97170065, 115.83620086,\n",
       "       103.86730202,  98.98370052, 117.22310081,  90.6538002 ,\n",
       "        91.46340029, 153.23559954, 102.74830001, 154.16340096,\n",
       "       114.48040124, 138.05140156,  90.02009811, 115.49519946,\n",
       "       114.85039979, 122.99590031, 121.7688003 , 165.29320201,\n",
       "        92.9064993 , 135.60820134, 121.29599925, 120.63530088,\n",
       "       104.30790001, 143.14210276, 121.73269908, 116.73560049,\n",
       "       113.39100075, 127.04779743, 122.69229966, 125.64429975,\n",
       "       121.21610047,  86.88309913, 132.64980183, 145.31890249,\n",
       "        92.59969957, 156.85199974, 158.52740272, 126.50529933,\n",
       "       164.63739928, 108.76219978, 109.50050074, 103.70959822,\n",
       "        94.13130062, 127.79960289, 107.38680027, 160.68000006,\n",
       "       121.85790003, 132.00909959, 130.40220163, 160.47440014,\n",
       "        90.0767984 , 175.20700279, 127.78940047, 126.88239852,\n",
       "        86.60149945, 124.60519968, 150.4968974 ,  89.62050016,\n",
       "       106.88369985, 109.10239994,  83.81749893, 135.85770026,\n",
       "       155.25090216, 138.69710346,  74.24790033, 152.20380021,\n",
       "       125.98380001, 126.83490011, 127.47969869, 108.54269957,\n",
       "       156.37310054, 114.62650126, 117.0458019 , 125.21889913,\n",
       "       153.87900109, 121.20589983, 156.30949909,  93.00330046,\n",
       "       125.48780104, 125.71300045,  87.66010005,  92.26249923,\n",
       "       126.02299946, 128.45710364, 112.97459996, 117.72469757,\n",
       "       120.8776002 , 126.94999858, 119.78120136, 136.20010038,\n",
       "        93.86509937, 120.05510089, 113.07610111,  94.17339953,\n",
       "       108.79619964,  86.6854992 , 109.23629951,  89.67419961,\n",
       "        92.65100014, 131.53450348, 162.35359967,  89.31400023,\n",
       "       119.64730097, 133.35530163, 123.95420009, 128.49060141,\n",
       "       101.95389859,  89.06009894, 131.99530095, 119.87640031,\n",
       "       108.79830012, 167.93120148, 115.20870015,  86.6357989 ,\n",
       "       118.64070056,  90.87119947, 162.36300045, 116.4955005 ,\n",
       "       121.32789995, 160.25439807, 120.02949918, 112.65409937,\n",
       "       108.48519881, 126.70969986,  75.79260044, 102.94739986,\n",
       "       127.71440248, 121.8725993 ,  92.62050012, 132.30770026,\n",
       "       118.01670111, 115.97039946, 154.1846029 , 159.30680086,\n",
       "       110.14579974, 153.93709815, 119.20180071, 160.80260086,\n",
       "       118.60410048, 158.56320041, 115.15719948, 116.63300036,\n",
       "       148.79479978, 114.82220093, 125.74159848, 166.76199894,\n",
       "       117.59150002, 125.19099929, 153.26650377, 153.53110226,\n",
       "       132.25310069, 114.66550056, 121.17180229, 125.05130064,\n",
       "        89.78560065, 122.87840002, 155.08750208, 111.92410043,\n",
       "       106.69920012, 162.13260119, 118.2561    , 165.55329969,\n",
       "       134.01620076, 114.72839966, 153.20339934, 168.62090028,\n",
       "       115.09549997, 113.95000121, 157.05619937,  85.15569881,\n",
       "       127.07160085, 127.82140061, 128.88789967, 124.4691008 ,\n",
       "       123.97530092,  90.46470052, 153.31150005,  97.19269964,\n",
       "       137.07529971,  89.19399923, 107.43470025, 115.0965008 ,\n",
       "       112.63900097, 124.44639927,  91.3989986 , 125.31450112,\n",
       "       162.32869822, 120.08239887, 165.31510115, 126.63349841,\n",
       "       112.28400013, 127.62609944,  94.73069942,  91.26219997,\n",
       "       102.60869923, 120.86840014,  83.17289959, 126.21620025,\n",
       "       160.59300444, 117.32280093, 118.23149978, 119.88329986,\n",
       "       122.98499947, 120.18350137, 121.66219982, 117.89510024,\n",
       "       107.15519958, 148.31339957, 126.29119867, 115.82430079,\n",
       "        74.02389999, 127.74260152, 153.04980032, 123.01260022,\n",
       "       125.57570028,  88.90440035, 103.28359888, 125.0297004 ,\n",
       "       120.18150028,  73.4833008 , 151.16329986, 121.08780067,\n",
       "       104.69430005,  86.7501981 , 114.90169901, 172.09249849,\n",
       "       119.91480025, 160.31369752, 113.16569949, 121.64400037,\n",
       "       118.60600118,  96.01079967, 118.79240037, 126.21520012,\n",
       "       118.4076997 ,  95.7597006 , 154.0386016 , 122.13719991,\n",
       "       147.58969982, 158.99190161, 113.79960019, 122.4758994 ,\n",
       "       151.23229848, 127.44260044, 165.80810017, 135.80560046,\n",
       "       119.97619966, 167.80359856, 108.25359896, 121.5666986 ,\n",
       "       139.36660068, 107.43219923])"
      ]
     },
     "execution_count": 51,
     "metadata": {},
     "output_type": "execute_result"
    }
   ],
   "source": [
    "#model evaluation. Prediction on the test data\n",
    "test_data_prediction=regressor.predict(X_test)\n",
    "test_data_prediction"
   ]
  },
  {
   "cell_type": "code",
   "execution_count": 53,
   "id": "372fcee8",
   "metadata": {},
   "outputs": [
    {
     "name": "stdout",
     "output_type": "stream",
     "text": [
      "R squared error:  0.9897196681954578\n"
     ]
    }
   ],
   "source": [
    "#R squared error\n",
    "error_score=metrics.r2_score(Y_test,test_data_prediction)\n",
    "print(\"R squared error: \",error_score)\n",
    "#when the values are the in the range of 100s and 1000s then the error value of 0.98 is very good\n"
   ]
  },
  {
   "cell_type": "code",
   "execution_count": 54,
   "id": "64c6c502",
   "metadata": {},
   "outputs": [
    {
     "data": {
      "image/png": "[encoded data removed]",
      "text/plain": [
       "<Figure size 432x288 with 1 Axes>"
      ]
     },
     "metadata": {
      "needs_background": "light"
     },
     "output_type": "display_data"
    }
   ],
   "source": [
    "#compare the actual values and predicted values in a Plot\n",
    "Y_test=list(Y_test)\n",
    "plt.plot(Y_test,color='blue',label='Actual Value')\n",
    "plt.plot(test_data_prediction,color='green',label='Predicted value')\n",
    "plt.title('Actual price vs Predicted Price')\n",
    "plt.xlabel('Number of values')\n",
    "plt.ylabel('Gold price')\n",
    "plt.legend()\n",
    "plt.show()"
   ]
  },
  {
   "cell_type": "code",
   "execution_count": null,
   "id": "2bd9e725",
   "metadata": {},
   "outputs": [],
   "source": [
    "#as we can see from the above graph the actual and the predicted values are fairly accurate.\n"
   ]
  }
 ],
 "metadata": {
  "kernelspec": {
   "display_name": "Python 3 (ipykernel)",
   "language": "python",
   "name": "python3"
  },
  "language_info": {
   "codemirror_mode": {
    "name": "ipython",
    "version": 3
   },
   "file_extension": ".py",
   "mimetype": "text/x-python",
   "name": "python",
   "nbconvert_exporter": "python",
   "pygments_lexer": "ipython3",
   "version": "3.9.7"
  }
 },
 "nbformat": 4,
 "nbformat_minor": 5
}
